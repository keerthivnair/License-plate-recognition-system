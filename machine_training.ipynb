{
 "cells": [
  {
   "cell_type": "code",
   "execution_count": 6,
   "id": "3af6c074-c581-41d8-b633-0f66b7472a3f",
   "metadata": {},
   "outputs": [],
   "source": [
    "import os\n",
    "import numpy as np\n",
    "from sklearn.svm import SVC\n",
    "from sklearn.model_selection import cross_val_score\n",
    "import joblib\n",
    "from skimage.io import imread\n",
    "from skimage.filters import threshold_otsu"
   ]
  },
  {
   "cell_type": "code",
   "execution_count": 7,
   "id": "d8e9c060-00cd-4d4a-9753-4ec9b2809618",
   "metadata": {},
   "outputs": [],
   "source": [
    "letters = [\n",
    "            '0', '1', '2', '3', '4', '5', '6', '7', '8', '9', 'A', 'B', 'C', 'D',\n",
    "            'E', 'F', 'G', 'H', 'J', 'K', 'L', 'M', 'N', 'P', 'Q', 'R', 'S', 'T',\n",
    "            'U', 'V', 'W', 'X', 'Y', 'Z'\n",
    "        ]"
   ]
  },
  {
   "cell_type": "code",
   "execution_count": 21,
   "id": "c2ea9745-c5a3-46e4-8842-1c5b9f22d2c7",
   "metadata": {},
   "outputs": [
    {
     "name": "stdout",
     "output_type": "stream",
     "text": [
      "Cross Validation Result for  4  -fold\n",
      "[ 96.47058824 100.          95.29411765  98.82352941]\n"
     ]
    },
    {
     "data": {
      "text/plain": [
       "['/home/hp/license-plate-recognition/model/svc//svc.pkl']"
      ]
     },
     "execution_count": 21,
     "metadata": {},
     "output_type": "execute_result"
    }
   ],
   "source": [
    "def read_training_data(training_folder):\n",
    "    image_data = []\n",
    "    target_data = []\n",
    "\n",
    "    for letter in letters:\n",
    "        for each in range(10):\n",
    "            image_path = os.path.join(training_folder, letter, letter + '_' + str(each) + '.jpg')\n",
    "\n",
    "            image_details = imread(image_path,as_gray=True)\n",
    "\n",
    "            binary_image = image_details < threshold_otsu(image_details)\n",
    "\n",
    "            flat_bin_img = binary_image.reshape(-1)\n",
    "\n",
    "            image_data.append(flat_bin_img)\n",
    "            target_data.append(letter)\n",
    "    return np.array(image_data),np.array(target_data) \n",
    "\n",
    "\n",
    "def cross_validation(model,num_of_folds,train_data,train_label):\n",
    "\n",
    "    accuracy_result = cross_val_score(model, train_data, train_label,\n",
    "                                      cv=num_of_folds)\n",
    "    \n",
    "    print(\"Cross Validation Result for \", str(num_of_folds), \" -fold\")\n",
    "\n",
    "    print(accuracy_result * 100) \n",
    "\n",
    "current_dir = os.getcwd()\n",
    "\n",
    "training_folder = os.path.join(current_dir,'train')\n",
    "\n",
    "image_data,target_data = read_training_data(training_folder)\n",
    "\n",
    "svc_model = SVC(kernel='linear', probability=True)\n",
    "\n",
    "cross_validation(svc_model, 4, image_data, target_data)\n",
    "\n",
    "svc_model.fit(image_data, target_data)\n",
    "\n",
    "save_directory = os.path.join(current_dir,'model/svc/')\n",
    "\n",
    "if not os.path.exists(save_directory):\n",
    "    os.makedirs(save_directory)\n",
    "joblib.dump(svc_model, save_directory+'/svc.pkl')    "
   ]
  },
  {
   "cell_type": "code",
   "execution_count": null,
   "id": "b14d2a63-5bb2-44fb-8a9e-4f5fc4cf6b48",
   "metadata": {},
   "outputs": [],
   "source": []
  }
 ],
 "metadata": {
  "kernelspec": {
   "display_name": "Python 3 (ipykernel)",
   "language": "python",
   "name": "python3"
  },
  "language_info": {
   "codemirror_mode": {
    "name": "ipython",
    "version": 3
   },
   "file_extension": ".py",
   "mimetype": "text/x-python",
   "name": "python",
   "nbconvert_exporter": "python",
   "pygments_lexer": "ipython3",
   "version": "3.11.4"
  }
 },
 "nbformat": 4,
 "nbformat_minor": 5
}
